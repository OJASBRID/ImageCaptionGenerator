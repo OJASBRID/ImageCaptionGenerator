{
 "cells": [
  {
   "cell_type": "code",
   "execution_count": 17,
   "metadata": {},
   "outputs": [],
   "source": [
    "import numpy as np\n",
    "from PIL import Image\n",
    "import os\n",
    "import string\n",
    "from pickle import dump\n",
    "from pickle import load\n",
    "from keras._tf_keras.keras.applications.xception import Xception #to get pre-trained model Xception\n",
    "from keras._tf_keras.keras.applications.xception import preprocess_input\n",
    "from keras._tf_keras.keras.preprocessing.image import load_img\n",
    "from keras._tf_keras.keras.preprocessing.image import img_to_array\n",
    "from keras._tf_keras.keras.preprocessing.text import Tokenizer #for text tokenization\n",
    "from keras._tf_keras.keras.preprocessing.sequence import pad_sequences\n",
    "from keras._tf_keras.keras.utils import to_categorical\n",
    "from keras._tf_keras.keras.models import Model, load_model\n",
    "from keras._tf_keras.keras.layers import Input, Dense#Keras to build our CNN and LSTM\n",
    "from keras._tf_keras.keras.layers import LSTM, Embedding, Dropout"
   ]
  },
  {
   "cell_type": "code",
   "execution_count": 18,
   "metadata": {},
   "outputs": [],
   "source": [
    "def load_doc(filename):\n",
    "    file = open(filename, 'r')\n",
    "    text = file.read()\n",
    "    file.close()\n",
    "    return text\n",
    "\n",
    "def img_capt(filename):\n",
    "    doc = load_doc(filename)\n",
    "    descriptions = dict()\n",
    "    for line in doc.split('\\n'):\n",
    "        # split line by white space\n",
    "        tokens = line.split(\",\")\n",
    "        \n",
    "        # take the first token as image id, the rest as description\n",
    "        image_id, image_desc = tokens[0], tokens[1:]\n",
    "        \n",
    "        # extract filename from image id\n",
    "        image_id = image_id.split('.')[0]\n",
    "        \n",
    "        # convert description tokens back to string\n",
    "        image_desc = ' '.join(image_desc)\n",
    "        if image_id not in descriptions:\n",
    "            descriptions[image_id] = list()\n",
    "        descriptions[image_id].append(image_desc)\n",
    "    \n",
    "    return descriptions\n"
   ]
  },
  {
   "cell_type": "code",
   "execution_count": 19,
   "metadata": {},
   "outputs": [],
   "source": [
    "def txt_clean(captions):\n",
    "    table = str.maketrans('','',string.punctuation)\n",
    "    for img, caps in captions.items():\n",
    "        for i in range(len(caps)):\n",
    "            descp = caps[i]\n",
    "            descp = descp.split()\n",
    "            #uppercase to lowercase\n",
    "            descp = [word.lower() for word in descp]\n",
    "            #remove punctuation from each token\n",
    "            descp = [word.translate(table) for word in descp]\n",
    "            #remove hanging 's and a\n",
    "            descp = [word for word in descp if(len(word)>1)]\n",
    "            #remove words containing numbers with them\n",
    "            descp = [word for word in descp if(word.isalpha())]\n",
    "            #converting back to string\n",
    "            caps[i] = ' '.join(descp)\n",
    "    \n",
    "    return captions"
   ]
  },
  {
   "cell_type": "code",
   "execution_count": 20,
   "metadata": {},
   "outputs": [],
   "source": [
    "def txt_vocab(descriptions):\n",
    "  # To build vocab of all unique words\n",
    "    vocab = set()\n",
    "    for key in descriptions.keys():\n",
    "        [vocab.update(d.split()) for d in descriptions[key]]\n",
    "    return vocab\n",
    "\n",
    "def save_descriptions(descriptions, filename):\n",
    "    lines = list()\n",
    "    for key, desc_list in descriptions.items():\n",
    "        for desc in desc_list:\n",
    "            lines.append(key + ' ' + desc)\n",
    "    \n",
    "    data = \"\\n\".join(lines)\n",
    "    file = open(filename,\"w\")\n",
    "    file.write(data)\n",
    "    file.close()"
   ]
  },
  {
   "cell_type": "code",
   "execution_count": 21,
   "metadata": {},
   "outputs": [
    {
     "name": "stdout",
     "output_type": "stream",
     "text": [
      "Length of descriptions = 8092\n",
      "Length of vocabulary =  8763\n"
     ]
    }
   ],
   "source": [
    "dataset_text = r\"D:\\Dataset\\captions.txt\"\n",
    "dataset_images = r\"D:\\Dataset\\Images\"\n",
    "\n",
    "filename = dataset_text\n",
    "descriptions = img_capt(filename)\n",
    "print(\"Length of descriptions =\" ,len(descriptions))\n",
    "#cleaning the descriptions\n",
    "clean_descriptions = txt_clean(descriptions)\n",
    "#to build vocabulary\n",
    "vocabulary = txt_vocab(clean_descriptions)\n",
    "print(\"Length of vocabulary = \", len(vocabulary))\n",
    "#saving all descriptions in one file\n",
    "save_descriptions(clean_descriptions, \"descriptions.txt\")"
   ]
  }
 ],
 "metadata": {
  "kernelspec": {
   "display_name": "Python 3",
   "language": "python",
   "name": "python3"
  },
  "language_info": {
   "codemirror_mode": {
    "name": "ipython",
    "version": 3
   },
   "file_extension": ".py",
   "mimetype": "text/x-python",
   "name": "python",
   "nbconvert_exporter": "python",
   "pygments_lexer": "ipython3",
   "version": "3.11.5"
  }
 },
 "nbformat": 4,
 "nbformat_minor": 2
}
