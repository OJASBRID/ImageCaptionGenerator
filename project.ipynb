{
 "cells": [
  {
   "cell_type": "code",
   "execution_count": 2,
   "metadata": {},
   "outputs": [],
   "source": [
    "import numpy as np\n",
    "from PIL import Image\n",
    "import os\n",
    "import string\n",
    "from pickle import dump\n",
    "from pickle import load\n",
    "from keras._tf_keras.keras.applications.xception import Xception #to get pre-trained model Xception\n",
    "from keras._tf_keras.keras.applications.xception import preprocess_input\n",
    "from keras._tf_keras.keras.preprocessing.image import load_img\n",
    "from keras._tf_keras.keras.preprocessing.image import img_to_array\n",
    "from keras._tf_keras.keras.preprocessing.text import Tokenizer #for text tokenization\n",
    "from keras._tf_keras.keras.preprocessing.sequence import pad_sequences\n",
    "from keras._tf_keras.keras.utils import to_categorical\n",
    "from keras._tf_keras.keras.models import Model, load_model\n",
    "from keras._tf_keras.keras.layers import Input, Dense#Keras to build our CNN and LSTM\n",
    "from keras._tf_keras.keras.layers import LSTM, Embedding, Dropout"
   ]
  },
  {
   "cell_type": "code",
   "execution_count": 5,
   "metadata": {},
   "outputs": [],
   "source": [
    "def load_doc(filename):\n",
    "    file = open(filename, 'r')\n",
    "    text = file.read()\n",
    "    file.close()\n",
    "    return text\n",
    "\n",
    "def img_capt(filename):\n",
    "    doc = load_doc(filename)\n",
    "    descriptions = dict()\n",
    "    for line in doc.split('\\n'):\n",
    "        # split line by white space\n",
    "        tokens = line.split(\"\\t\")\n",
    "        \n",
    "        # take the first token as image id, the rest as description\n",
    "        image_id, image_desc = tokens[0], tokens[1:]\n",
    "        \n",
    "        # extract filename from image id\n",
    "        image_id = image_id.split('.')[0]\n",
    "        \n",
    "        # convert description tokens back to string\n",
    "        image_desc = ' '.join(image_desc)\n",
    "        if image_id not in descriptions:\n",
    "            descriptions[image_id] = list()\n",
    "        descriptions[image_id].append(image_desc)\n",
    "    \n",
    "    return descriptions\n"
   ]
  }
 ],
 "metadata": {
  "kernelspec": {
   "display_name": "Python 3",
   "language": "python",
   "name": "python3"
  },
  "language_info": {
   "codemirror_mode": {
    "name": "ipython",
    "version": 3
   },
   "file_extension": ".py",
   "mimetype": "text/x-python",
   "name": "python",
   "nbconvert_exporter": "python",
   "pygments_lexer": "ipython3",
   "version": "3.11.5"
  }
 },
 "nbformat": 4,
 "nbformat_minor": 2
}
